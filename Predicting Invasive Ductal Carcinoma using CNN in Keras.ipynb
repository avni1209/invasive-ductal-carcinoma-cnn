{
 "cells": [
  {
   "cell_type": "code",
   "execution_count": 1,
   "metadata": {
    "collapsed": true
   },
   "outputs": [],
   "source": [
    "from glob import glob\n",
    "import fnmatch\n",
    "import cv2\n",
    "import numpy as np\n",
    "import pandas as pd\n",
    "import matplotlib.pyplot as plt\n",
    "%matplotlib inline"
   ]
  },
  {
   "cell_type": "code",
   "execution_count": 2,
   "metadata": {
    "collapsed": true
   },
   "outputs": [],
   "source": [
    "imagePatches = glob('C:/Users/asus/Documents/Breast cancer classification/**/*.png', recursive=True)"
   ]
  },
  {
   "cell_type": "code",
   "execution_count": 3,
   "metadata": {
    "collapsed": true
   },
   "outputs": [],
   "source": [
    "patternZero = '*class0.png'\n",
    "patternOne = '*class1.png'\n",
    "classZero = fnmatch.filter(imagePatches, patternZero) #saves the file location of all images with file name class0\n",
    "classOne = fnmatch.filter(imagePatches, patternOne) #saves the file location of all images with file name class1"
   ]
  },
  {
   "cell_type": "markdown",
   "metadata": {},
   "source": [
    "The function process_images takes as input the start and end index. It also reads the pixel values of the images and resizes them so that all images are of the same size. The array x contains the image data and array y contains the corresponding class of the images. "
   ]
  },
  {
   "cell_type": "code",
   "execution_count": 4,
   "metadata": {
    "collapsed": true
   },
   "outputs": [],
   "source": [
    "def process_images(lowerIndex,upperIndex):\n",
    "    \"\"\"\n",
    "    Returns two arrays: \n",
    "        x is an array of resized images\n",
    "        y is an array of labels\n",
    "    \"\"\" \n",
    "    height = 50\n",
    "    width = 50\n",
    "    channels = 3\n",
    "    x = [] #list to store image data\n",
    "    y = [] #list to store corresponding class\n",
    "    for img in imagePatches[lowerIndex:upperIndex]:\n",
    "        full_size_image = cv2.imread(img)\n",
    "        image = (cv2.resize(full_size_image, (width,height), interpolation=cv2.INTER_CUBIC))\n",
    "        x.append(image)\n",
    "        if img in classZero:\n",
    "            y.append(0)\n",
    "        elif img in classOne:\n",
    "            y.append(1)\n",
    "        else:\n",
    "            return\n",
    "    return x,y"
   ]
  },
  {
   "cell_type": "code",
   "execution_count": 5,
   "metadata": {
    "collapsed": true
   },
   "outputs": [],
   "source": [
    "X, Y = process_images(0,60000)"
   ]
  },
  {
   "cell_type": "code",
   "execution_count": 6,
   "metadata": {
    "collapsed": true
   },
   "outputs": [],
   "source": [
    "X = np.array(X)"
   ]
  },
  {
   "cell_type": "code",
   "execution_count": 7,
   "metadata": {
    "collapsed": true
   },
   "outputs": [],
   "source": [
    "X = X.astype(np.float32) #Casting the array to single precision takes half as much space"
   ]
  },
  {
   "cell_type": "code",
   "execution_count": 8,
   "metadata": {
    "collapsed": true
   },
   "outputs": [],
   "source": [
    "X /= 255. #Normalizing, which helps train the model faster and prevents the vanishing/ exploding gradient problem"
   ]
  },
  {
   "cell_type": "code",
   "execution_count": 9,
   "metadata": {
    "collapsed": true
   },
   "outputs": [],
   "source": [
    "from sklearn.model_selection import train_test_split\n",
    "X_train, X_test, y_train, y_test = train_test_split(X,Y,test_size=0.15)"
   ]
  },
  {
   "cell_type": "code",
   "execution_count": 10,
   "metadata": {},
   "outputs": [
    {
     "data": {
      "text/plain": [
       "44478"
      ]
     },
     "execution_count": 10,
     "metadata": {},
     "output_type": "execute_result"
    }
   ],
   "source": [
    "Y.count(0) #Checking the number of 0's in the array Y (this denotes number of malignant cases)"
   ]
  },
  {
   "cell_type": "code",
   "execution_count": 11,
   "metadata": {},
   "outputs": [
    {
     "data": {
      "text/plain": [
       "15522"
      ]
     },
     "execution_count": 11,
     "metadata": {},
     "output_type": "execute_result"
    }
   ],
   "source": [
    "Y.count(1) #Checking the number of 1's in the array Y (this denotes number of malignant cases)"
   ]
  },
  {
   "cell_type": "code",
   "execution_count": 12,
   "metadata": {},
   "outputs": [
    {
     "data": {
      "text/plain": [
       "13210"
      ]
     },
     "execution_count": 12,
     "metadata": {},
     "output_type": "execute_result"
    }
   ],
   "source": [
    "y_train.count(1) #Checking the number of 1's in the array y_train"
   ]
  },
  {
   "cell_type": "code",
   "execution_count": 13,
   "metadata": {},
   "outputs": [
    {
     "data": {
      "text/plain": [
       "37790"
      ]
     },
     "execution_count": 13,
     "metadata": {},
     "output_type": "execute_result"
    }
   ],
   "source": [
    "y_train.count(0) #Checking the number of 1's in the array y_train"
   ]
  },
  {
   "cell_type": "code",
   "execution_count": 14,
   "metadata": {},
   "outputs": [
    {
     "name": "stderr",
     "output_type": "stream",
     "text": [
      "E:\\Anaconda\\lib\\site-packages\\h5py\\__init__.py:36: FutureWarning: Conversion of the second argument of issubdtype from `float` to `np.floating` is deprecated. In future, it will be treated as `np.float64 == np.dtype(float).type`.\n",
      "  from ._conv import register_converters as _register_converters\n",
      "Using TensorFlow backend.\n"
     ]
    }
   ],
   "source": [
    "import keras\n",
    "from keras.utils import to_categorical"
   ]
  },
  {
   "cell_type": "code",
   "execution_count": 15,
   "metadata": {},
   "outputs": [],
   "source": [
    "#One-Hot-Encode y_train and y_test\n",
    "y_train = to_categorical(y_train)\n",
    "y_test = to_categorical(y_test)"
   ]
  },
  {
   "cell_type": "markdown",
   "metadata": {},
   "source": [
    "# Dealing with class imbalance"
   ]
  },
  {
   "cell_type": "markdown",
   "metadata": {},
   "source": [
    "Reshaping the image data to feed into RandomUnderSampler to deal with class imbalance"
   ]
  },
  {
   "cell_type": "code",
   "execution_count": 16,
   "metadata": {
    "collapsed": true
   },
   "outputs": [],
   "source": [
    "X_trainShape = X_train.shape[1]*X_train.shape[2]*X_train.shape[3]\n",
    "X_testShape = X_test.shape[1]*X_test.shape[2]*X_test.shape[3]\n",
    "X_trainFlat = X_train.reshape(X_train.shape[0], X_trainShape)\n",
    "X_testFlat = X_test.reshape(X_test.shape[0], X_testShape)"
   ]
  },
  {
   "cell_type": "markdown",
   "metadata": {},
   "source": [
    "The majority class is undersampled to make number of samples of both classes equal"
   ]
  },
  {
   "cell_type": "code",
   "execution_count": 17,
   "metadata": {
    "collapsed": true
   },
   "outputs": [],
   "source": [
    "from imblearn.under_sampling import RandomUnderSampler\n",
    "random_under_sampler = RandomUnderSampler(ratio='majority')\n",
    "X_trainRus, Y_trainRus = random_under_sampler.fit_sample(X_trainFlat, y_train)\n",
    "X_testRus, Y_testRus = random_under_sampler.fit_sample(X_testFlat, y_test)"
   ]
  },
  {
   "cell_type": "code",
   "execution_count": 18,
   "metadata": {
    "collapsed": true
   },
   "outputs": [],
   "source": [
    "# One-hot-encoding\n",
    "Y_trainRusHot = to_categorical(Y_trainRus, num_classes = 2)\n",
    "Y_testRusHot = to_categorical(Y_testRus, num_classes = 2)"
   ]
  },
  {
   "cell_type": "code",
   "execution_count": 19,
   "metadata": {},
   "outputs": [
    {
     "data": {
      "text/plain": [
       "(array([0, 1]), array([13210, 13210], dtype=int64))"
      ]
     },
     "execution_count": 19,
     "metadata": {},
     "output_type": "execute_result"
    }
   ],
   "source": [
    "np.unique(Y_trainRus, return_counts=True) #checking the number of samples in each class to make sure RandomUnderSampling worked"
   ]
  },
  {
   "cell_type": "markdown",
   "metadata": {},
   "source": [
    "Now we have equal number of 1's and 0's"
   ]
  },
  {
   "cell_type": "markdown",
   "metadata": {},
   "source": [
    "The cells below reshapes X_trainRos and X_testRos to the original image shape of 50 x 50 x 3"
   ]
  },
  {
   "cell_type": "code",
   "execution_count": 20,
   "metadata": {
    "collapsed": true
   },
   "outputs": [],
   "source": [
    "for i in range(len(X_trainRus)):\n",
    "    height, width, channels = 50,50,3\n",
    "    X_trainRusReshaped = X_trainRus.reshape(len(X_trainRus),height,width,channels)"
   ]
  },
  {
   "cell_type": "code",
   "execution_count": 21,
   "metadata": {
    "collapsed": true
   },
   "outputs": [],
   "source": [
    "for i in range(len(X_testRus)):\n",
    "    height, width, channels = 50,50,3\n",
    "    X_testRusReshaped = X_testRus.reshape(len(X_testRus),height,width,channels)"
   ]
  },
  {
   "cell_type": "markdown",
   "metadata": {},
   "source": [
    "# Model architecture"
   ]
  },
  {
   "cell_type": "code",
   "execution_count": 22,
   "metadata": {
    "collapsed": true
   },
   "outputs": [],
   "source": [
    "from keras.models import Sequential\n",
    "from keras.layers import Dense, Dropout, Flatten\n",
    "from keras.layers import Conv2D, MaxPooling2D\n",
    "from keras.preprocessing.image import ImageDataGenerator"
   ]
  },
  {
   "cell_type": "code",
   "execution_count": 23,
   "metadata": {
    "collapsed": true
   },
   "outputs": [],
   "source": [
    "batch_size = 256\n",
    "num_classes = 2\n",
    "epochs = 80"
   ]
  },
  {
   "cell_type": "code",
   "execution_count": 24,
   "metadata": {
    "scrolled": true
   },
   "outputs": [],
   "source": [
    "model = Sequential()\n",
    "model.add(Conv2D(32, kernel_size=(3,3),\n",
    "                 activation='relu',\n",
    "                 input_shape=(50,50,3)))\n",
    "model.add(MaxPooling2D(pool_size=(2, 2)))\n",
    "model.add(Conv2D(64, (3,3), activation='relu'))\n",
    "model.add(MaxPooling2D(pool_size=(2,2)))\n",
    "model.add(Conv2D(128, (3, 3), activation='relu'))\n",
    "model.add(Conv2D(256, (3, 3), activation='relu'))\n",
    "model.add(Flatten()) #this converts our 3D feature maps to 1D feature vectors for the dense layer below\n",
    "model.add(Dropout(0.5))\n",
    "model.add(Dense(128, activation='relu'))\n",
    "model.add(Dropout(0.5))\n",
    "model.add(Dense(128, activation='relu'))\n",
    "model.add(Dense(num_classes, activation='sigmoid'))"
   ]
  },
  {
   "cell_type": "markdown",
   "metadata": {},
   "source": [
    "Compiling the model"
   ]
  },
  {
   "cell_type": "code",
   "execution_count": 25,
   "metadata": {
    "collapsed": true
   },
   "outputs": [],
   "source": [
    "model.compile(loss=keras.losses.binary_crossentropy,\n",
    "              optimizer=keras.optimizers.Adam(lr=0.00001),\n",
    "              metrics=['accuracy'])"
   ]
  },
  {
   "cell_type": "markdown",
   "metadata": {},
   "source": [
    "Data augmentation on-the-fly"
   ]
  },
  {
   "cell_type": "code",
   "execution_count": 26,
   "metadata": {
    "collapsed": true
   },
   "outputs": [],
   "source": [
    "datagen = ImageDataGenerator(\n",
    "    featurewise_center=True,\n",
    "    featurewise_std_normalization=True,\n",
    "    rotation_range=180,\n",
    "    horizontal_flip=True,vertical_flip = True)"
   ]
  },
  {
   "cell_type": "markdown",
   "metadata": {},
   "source": [
    "Early stopping to prevent overfitting and model checkpoint to save best model based on minimum val_loss"
   ]
  },
  {
   "cell_type": "code",
   "execution_count": 27,
   "metadata": {
    "collapsed": true
   },
   "outputs": [],
   "source": [
    "from keras.callbacks import EarlyStopping, ModelCheckpoint\n",
    "\n",
    "early_stopping_monitor = EarlyStopping(monitor='val_loss', patience=3, mode='min')\n",
    "model_checkpoint = ModelCheckpoint('best_model.h5', monitor='val_loss', mode='min', verbose=1, save_best_only=True)"
   ]
  },
  {
   "cell_type": "markdown",
   "metadata": {},
   "source": [
    "Fitting the model"
   ]
  },
  {
   "cell_type": "code",
   "execution_count": 28,
   "metadata": {
    "scrolled": true
   },
   "outputs": [
    {
     "name": "stdout",
     "output_type": "stream",
     "text": [
      "Epoch 1/80\n"
     ]
    },
    {
     "name": "stderr",
     "output_type": "stream",
     "text": [
      "E:\\Anaconda\\lib\\site-packages\\keras_preprocessing\\image.py:1131: UserWarning: This ImageDataGenerator specifies `featurewise_center`, but it hasn't been fit on any training data. Fit it first by calling `.fit(numpy_data)`.\n",
      "  warnings.warn('This ImageDataGenerator specifies '\n",
      "E:\\Anaconda\\lib\\site-packages\\keras_preprocessing\\image.py:1139: UserWarning: This ImageDataGenerator specifies `featurewise_std_normalization`, but it hasn't been fit on any training data. Fit it first by calling `.fit(numpy_data)`.\n",
      "  warnings.warn('This ImageDataGenerator specifies '\n"
     ]
    },
    {
     "name": "stdout",
     "output_type": "stream",
     "text": [
      "104/103 [==============================] - 141s 1s/step - loss: 0.6915 - acc: 0.5022 - val_loss: 0.6883 - val_acc: 0.4999\n",
      "\n",
      "Epoch 00001: val_loss improved from inf to 0.68831, saving model to best_model.h5\n",
      "Epoch 2/80\n",
      "104/103 [==============================] - 32s 309ms/step - loss: 0.6827 - acc: 0.5479 - val_loss: 0.6534 - val_acc: 0.7306\n",
      "\n",
      "Epoch 00002: val_loss improved from 0.68831 to 0.65338, saving model to best_model.h5\n",
      "Epoch 3/80\n",
      "104/103 [==============================] - 32s 310ms/step - loss: 0.6096 - acc: 0.7203 - val_loss: 0.5330 - val_acc: 0.7623\n",
      "\n",
      "Epoch 00003: val_loss improved from 0.65338 to 0.53301, saving model to best_model.h5\n",
      "Epoch 4/80\n",
      "104/103 [==============================] - 33s 315ms/step - loss: 0.5164 - acc: 0.7708 - val_loss: 0.4992 - val_acc: 0.7728\n",
      "\n",
      "Epoch 00004: val_loss improved from 0.53301 to 0.49919, saving model to best_model.h5\n",
      "Epoch 5/80\n",
      "104/103 [==============================] - 32s 310ms/step - loss: 0.4954 - acc: 0.7813 - val_loss: 0.4940 - val_acc: 0.7769\n",
      "\n",
      "Epoch 00005: val_loss improved from 0.49919 to 0.49399, saving model to best_model.h5\n",
      "Epoch 6/80\n",
      "104/103 [==============================] - 32s 309ms/step - loss: 0.4881 - acc: 0.7839 - val_loss: 0.4956 - val_acc: 0.7787\n",
      "\n",
      "Epoch 00006: val_loss did not improve from 0.49399\n",
      "Epoch 7/80\n",
      "104/103 [==============================] - 32s 310ms/step - loss: 0.4845 - acc: 0.7864 - val_loss: 0.4922 - val_acc: 0.7821\n",
      "\n",
      "Epoch 00007: val_loss improved from 0.49399 to 0.49216, saving model to best_model.h5\n",
      "Epoch 8/80\n",
      "104/103 [==============================] - 34s 324ms/step - loss: 0.4828 - acc: 0.7887 - val_loss: 0.4896 - val_acc: 0.7834\n",
      "\n",
      "Epoch 00008: val_loss improved from 0.49216 to 0.48955, saving model to best_model.h5\n",
      "Epoch 9/80\n",
      "104/103 [==============================] - 33s 317ms/step - loss: 0.4826 - acc: 0.7892 - val_loss: 0.4883 - val_acc: 0.7832\n",
      "\n",
      "Epoch 00009: val_loss improved from 0.48955 to 0.48829, saving model to best_model.h5\n",
      "Epoch 10/80\n",
      "104/103 [==============================] - 33s 321ms/step - loss: 0.4796 - acc: 0.7895 - val_loss: 0.5128 - val_acc: 0.7609\n",
      "\n",
      "Epoch 00010: val_loss did not improve from 0.48829\n",
      "Epoch 11/80\n",
      "104/103 [==============================] - 32s 309ms/step - loss: 0.4790 - acc: 0.7893 - val_loss: 0.4851 - val_acc: 0.7853\n",
      "\n",
      "Epoch 00011: val_loss improved from 0.48829 to 0.48515, saving model to best_model.h5\n",
      "Epoch 12/80\n",
      "104/103 [==============================] - 33s 318ms/step - loss: 0.4765 - acc: 0.7914 - val_loss: 0.4859 - val_acc: 0.7845\n",
      "\n",
      "Epoch 00012: val_loss did not improve from 0.48515\n",
      "Epoch 13/80\n",
      "104/103 [==============================] - 32s 308ms/step - loss: 0.4759 - acc: 0.7912 - val_loss: 0.4836 - val_acc: 0.7873\n",
      "\n",
      "Epoch 00013: val_loss improved from 0.48515 to 0.48360, saving model to best_model.h5\n",
      "Epoch 14/80\n",
      "104/103 [==============================] - 34s 330ms/step - loss: 0.4746 - acc: 0.7929 - val_loss: 0.4843 - val_acc: 0.7853\n",
      "\n",
      "Epoch 00014: val_loss did not improve from 0.48360\n",
      "Epoch 15/80\n",
      "104/103 [==============================] - 32s 310ms/step - loss: 0.4729 - acc: 0.7931 - val_loss: 0.4821 - val_acc: 0.7863\n",
      "\n",
      "Epoch 00015: val_loss improved from 0.48360 to 0.48207, saving model to best_model.h5\n",
      "Epoch 16/80\n",
      "104/103 [==============================] - 32s 310ms/step - loss: 0.4736 - acc: 0.7931 - val_loss: 0.4874 - val_acc: 0.7806\n",
      "\n",
      "Epoch 00016: val_loss did not improve from 0.48207\n",
      "Epoch 17/80\n",
      "104/103 [==============================] - 32s 308ms/step - loss: 0.4720 - acc: 0.7933 - val_loss: 0.4832 - val_acc: 0.7847\n",
      "\n",
      "Epoch 00017: val_loss did not improve from 0.48207\n",
      "Epoch 18/80\n",
      "104/103 [==============================] - 32s 309ms/step - loss: 0.4701 - acc: 0.7946 - val_loss: 0.4794 - val_acc: 0.7869\n",
      "\n",
      "Epoch 00018: val_loss improved from 0.48207 to 0.47943, saving model to best_model.h5\n",
      "Epoch 19/80\n",
      "104/103 [==============================] - 32s 310ms/step - loss: 0.4697 - acc: 0.7944 - val_loss: 0.4787 - val_acc: 0.7873\n",
      "\n",
      "Epoch 00019: val_loss improved from 0.47943 to 0.47866, saving model to best_model.h5\n",
      "Epoch 20/80\n",
      "104/103 [==============================] - 33s 316ms/step - loss: 0.4693 - acc: 0.7939 - val_loss: 0.4767 - val_acc: 0.7888\n",
      "\n",
      "Epoch 00020: val_loss improved from 0.47866 to 0.47673, saving model to best_model.h5\n",
      "Epoch 21/80\n",
      "104/103 [==============================] - 35s 336ms/step - loss: 0.4682 - acc: 0.7954 - val_loss: 0.4772 - val_acc: 0.7876\n",
      "\n",
      "Epoch 00021: val_loss did not improve from 0.47673\n",
      "Epoch 22/80\n",
      "104/103 [==============================] - 32s 310ms/step - loss: 0.4698 - acc: 0.7944 - val_loss: 0.4765 - val_acc: 0.7880\n",
      "\n",
      "Epoch 00022: val_loss improved from 0.47673 to 0.47652, saving model to best_model.h5\n",
      "Epoch 23/80\n",
      "104/103 [==============================] - 33s 318ms/step - loss: 0.4694 - acc: 0.7934 - val_loss: 0.4766 - val_acc: 0.7874\n",
      "\n",
      "Epoch 00023: val_loss did not improve from 0.47652\n",
      "Epoch 24/80\n",
      "104/103 [==============================] - 32s 310ms/step - loss: 0.4652 - acc: 0.7973 - val_loss: 0.4761 - val_acc: 0.7881\n",
      "\n",
      "Epoch 00024: val_loss improved from 0.47652 to 0.47605, saving model to best_model.h5\n",
      "Epoch 25/80\n",
      "104/103 [==============================] - 32s 309ms/step - loss: 0.4654 - acc: 0.7957 - val_loss: 0.4727 - val_acc: 0.7914\n",
      "\n",
      "Epoch 00025: val_loss improved from 0.47605 to 0.47265, saving model to best_model.h5\n",
      "Epoch 26/80\n",
      "104/103 [==============================] - 32s 310ms/step - loss: 0.4644 - acc: 0.7969 - val_loss: 0.4726 - val_acc: 0.7902\n",
      "\n",
      "Epoch 00026: val_loss improved from 0.47265 to 0.47260, saving model to best_model.h5\n",
      "Epoch 27/80\n",
      "104/103 [==============================] - 36s 348ms/step - loss: 0.4621 - acc: 0.7991 - val_loss: 0.4711 - val_acc: 0.7901\n",
      "\n",
      "Epoch 00027: val_loss improved from 0.47260 to 0.47110, saving model to best_model.h5\n",
      "Epoch 28/80\n",
      "104/103 [==============================] - 32s 311ms/step - loss: 0.4605 - acc: 0.7992 - val_loss: 0.4693 - val_acc: 0.7921\n",
      "\n",
      "Epoch 00028: val_loss improved from 0.47110 to 0.46926, saving model to best_model.h5\n",
      "Epoch 29/80\n",
      "104/103 [==============================] - 32s 310ms/step - loss: 0.4618 - acc: 0.7989 - val_loss: 0.4696 - val_acc: 0.7907\n",
      "\n",
      "Epoch 00029: val_loss did not improve from 0.46926\n",
      "Epoch 30/80\n",
      "104/103 [==============================] - 32s 308ms/step - loss: 0.4591 - acc: 0.8000 - val_loss: 0.4691 - val_acc: 0.7908\n",
      "\n",
      "Epoch 00030: val_loss improved from 0.46926 to 0.46914, saving model to best_model.h5\n",
      "Epoch 31/80\n",
      "104/103 [==============================] - 32s 309ms/step - loss: 0.4602 - acc: 0.8014 - val_loss: 0.4676 - val_acc: 0.7913\n",
      "\n",
      "Epoch 00031: val_loss improved from 0.46914 to 0.46760, saving model to best_model.h5\n",
      "Epoch 32/80\n",
      "104/103 [==============================] - 34s 326ms/step - loss: 0.4584 - acc: 0.8000 - val_loss: 0.4674 - val_acc: 0.7916\n",
      "\n",
      "Epoch 00032: val_loss improved from 0.46760 to 0.46736, saving model to best_model.h5\n",
      "Epoch 33/80\n",
      "104/103 [==============================] - 35s 337ms/step - loss: 0.4581 - acc: 0.8015 - val_loss: 0.4643 - val_acc: 0.7951\n",
      "\n",
      "Epoch 00033: val_loss improved from 0.46736 to 0.46429, saving model to best_model.h5\n",
      "Epoch 34/80\n",
      "104/103 [==============================] - 35s 332ms/step - loss: 0.4568 - acc: 0.8006 - val_loss: 0.4641 - val_acc: 0.7910\n",
      "\n",
      "Epoch 00034: val_loss improved from 0.46429 to 0.46407, saving model to best_model.h5\n",
      "Epoch 35/80\n",
      "104/103 [==============================] - 35s 341ms/step - loss: 0.4571 - acc: 0.8012 - val_loss: 0.4648 - val_acc: 0.7958\n",
      "\n",
      "Epoch 00035: val_loss did not improve from 0.46407\n",
      "Epoch 36/80\n",
      "104/103 [==============================] - 40s 387ms/step - loss: 0.4559 - acc: 0.8020 - val_loss: 0.4676 - val_acc: 0.7909\n",
      "\n",
      "Epoch 00036: val_loss did not improve from 0.46407\n",
      "Epoch 37/80\n",
      "104/103 [==============================] - 37s 358ms/step - loss: 0.4523 - acc: 0.8036 - val_loss: 0.4677 - val_acc: 0.7897\n",
      "\n",
      "Epoch 00037: val_loss did not improve from 0.46407\n"
     ]
    }
   ],
   "source": [
    "training = model.fit_generator(datagen.flow(X_trainRusReshaped,Y_trainRusHot,batch_size=batch_size),\n",
    "                    steps_per_epoch=len(X_trainRusReshaped) / batch_size, epochs=epochs,validation_data=(X_testRusReshaped, Y_testRusHot), verbose=1, callbacks=[early_stopping_monitor, model_checkpoint])"
   ]
  },
  {
   "cell_type": "markdown",
   "metadata": {},
   "source": [
    "Plotting the training and validation loss"
   ]
  },
  {
   "cell_type": "code",
   "execution_count": 29,
   "metadata": {},
   "outputs": [
    {
     "name": "stderr",
     "output_type": "stream",
     "text": [
      "E:\\Anaconda\\lib\\site-packages\\keras_preprocessing\\image.py:1131: UserWarning: This ImageDataGenerator specifies `featurewise_center`, but it hasn't been fit on any training data. Fit it first by calling `.fit(numpy_data)`.\n",
      "  warnings.warn('This ImageDataGenerator specifies '\n",
      "E:\\Anaconda\\lib\\site-packages\\keras_preprocessing\\image.py:1139: UserWarning: This ImageDataGenerator specifies `featurewise_std_normalization`, but it hasn't been fit on any training data. Fit it first by calling `.fit(numpy_data)`.\n",
      "  warnings.warn('This ImageDataGenerator specifies '\n"
     ]
    },
    {
     "data": {
      "image/png": "[encoded data removed]",
      "text/plain": [
       "<matplotlib.figure.Figure at 0x16859dd45c0>"
      ]
     },
     "metadata": {},
     "output_type": "display_data"
    }
   ],
   "source": [
    "plt.plot(training.history['loss'])\n",
    "plt.plot(training.history['val_loss'])\n",
    "plt.title('model loss')\n",
    "plt.ylabel('loss')\n",
    "plt.xlabel('epoch')\n",
    "plt.legend(['train', 'test'], loc='upper left')\n",
    "plt.show()"
   ]
  },
  {
   "cell_type": "markdown",
   "metadata": {},
   "source": [
    "Predicting on the test set and printing the confusion matrix"
   ]
  },
  {
   "cell_type": "code",
   "execution_count": 30,
   "metadata": {},
   "outputs": [
    {
     "name": "stdout",
     "output_type": "stream",
     "text": [
      "[[1761  551]\n",
      " [ 416 1896]]\n"
     ]
    }
   ],
   "source": [
    "from keras.models import load_model\n",
    "from sklearn import metrics\n",
    "model = load_model('best_model.h5')\n",
    "\n",
    "y_pred_one_hot = model.predict(X_testRusReshaped)\n",
    "y_pred_labels = np.argmax(y_pred_one_hot, axis = 1)\n",
    "\n",
    "y_true_labels = np.argmax(Y_testRusHot,axis=1)\n",
    "\n",
    "confusion_matrix = metrics.confusion_matrix(y_true=y_true_labels, y_pred=y_pred_labels)\n",
    "print(confusion_matrix)"
   ]
  }
 ],
 "metadata": {
  "kernelspec": {
   "display_name": "Python 3",
   "language": "python",
   "name": "python3"
  },
  "language_info": {
   "codemirror_mode": {
    "name": "ipython",
    "version": 3
   },
   "file_extension": ".py",
   "mimetype": "text/x-python",
   "name": "python",
   "nbconvert_exporter": "python",
   "pygments_lexer": "ipython3",
   "version": "3.6.2"
  }
 },
 "nbformat": 4,
 "nbformat_minor": 2
}
